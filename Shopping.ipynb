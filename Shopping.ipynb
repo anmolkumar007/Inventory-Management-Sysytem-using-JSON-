{
  "nbformat": 4,
  "nbformat_minor": 0,
  "metadata": {
    "colab": {
      "name": "Shopping",
      "provenance": []
    },
    "kernelspec": {
      "name": "python3",
      "display_name": "Python 3"
    },
    "language_info": {
      "name": "python"
    }
  },
  "cells": [
    {
      "cell_type": "code",
      "metadata": {
        "id": "dUtYrkfagmI3"
      },
      "source": [
        "avail = { 2101 : {'name':'Maggi noodles\\t','price':10,'mfg_date':'25/08/2021','exp_date':'25/2/2022','qty':100},\n",
        "2102 : {'name':'Maggi atta noodles','price':20,'mfg_date':'21/08/2021','exp_date':'21/2/2022','qty':106},\n",
        "2103 : {'name':'Lays\\t\\t','price':10,'mfg_date':'23/07/2021','exp_date':'23/11/2021','qty':70},\n",
        " 2104 : {'name':'Lays family pack','price':20,'mfg_date':'25/06/2021','exp_date':'25/12/2021','qty':140},   \n",
        "2105 : {'name':'Tata salt\\t','price':20,'mfg_date':'20/05/2021','exp_date':'20/11/2021','qty':180},\n",
        "2106 : {'name':'Tata rock salt\\t','price':100,'mfg_date':'15/08/2021','exp_date':'15/2/2022','qty':140},\n",
        "2107 : {'name':'Cadbury silk\\t','price':160,'mfg_date':'28/07/2021','exp_date':'28/2/2022','qty':200},\n",
        "2108 : {'name':'Bar one\\t\\t','price':10,'mfg_date':'21/08/2021','exp_date':'21/12/2021','qty':150},\n",
        "2109 : {'name':'Black pepper (100 g)','price':176,'mfg_date':'30/08/2021','exp_date':'03/03/2022','qty':300},\n",
        "2110 : {'name':'Tumeric powder(500 g)','price':128,'mfg_date':'12/06/2021','exp_date':'12/1/2022','qty':130},\n",
        "2111 : {'name':'Tata Tea premium (1 kg)','price':370,'mfg_date':'13/05/2021','exp_date':'25/11/2021','qty':180},\n",
        "2112 : {'name':'Basmati Rice (5 kg)','price':614,'mfg_date':'28/08/2021','exp_date':'28/2/2022','qty':108},\n",
        "2113 : {'name':'Kellogs Oats (2 kig) ','price':280,'mfg_date':'23/08/2021','exp_date':'25/2/2022','qty':190},\n",
        "2114 : {'name':'Dishwash gel (5 L)','price':550,'mfg_date':'22/06/2021','exp_date':'25/12/2022','qty':250},\n",
        "2115 : {'name':'Sugar (5 kg)\\t','price':225,'mfg_date':'25/04/2021','exp_date':'25/08/2021','qty':130},\n",
        "2116 : {'name':'Brown sugar (5 kg)','price':370,'mfg_date':'21/06/2021','exp_date':'23/12/2021','qty':200},\n",
        "2117 : {'name':'Almonds (1 kg)\\t','price':1400,'mfg_date':'25/08/2021','exp_date':'25/08/2022','qty':50},\n",
        "2118 : {'name':'Cashewnuts (1 kg)','price':680,'mfg_date':'25/08/2021','exp_date':'25/08/2022','qty':60},\n",
        "2119 : {'name':'Walnuts (1 kg)\\t','price':860,'mfg_date':'25/08/2021','exp_date':'25/07/2022','qty':70},\n",
        "2120 : {'name':'Pistachios (1 kg)','price':1370,'mfg_date':'25/08/2021','exp_date':'25/09/2022','qty':80},\n",
        "2121 : {'name':'Coconut oil (600 ml)','price':240,'mfg_date':'25/08/2021','exp_date':'25/08/2022','qty':106},\n",
        "2122 : {'name':'Mustard Oil (1 L)','price':185,'mfg_date':'15/06/2021','exp_date':'15/12/2021','qty':109},\n",
        "2123 : {'name':'Tomato Ketchup (950g)','price':115,'mfg_date':'26/07/2021','exp_date':'26/10/2021','qty':145},\n",
        "2124 : {'name':'Mayonnaise (900g)','price':150,'mfg_date':'22/06/2021','exp_date':'21/11/2021','qty':90},\n",
        "2125 : {'name':'Oregano (80g)\\t','price':80,'mfg_date':'30/06/2021','exp_date':'28/12/2021','qty':250},\n",
        "2126 : {'name':'Olive oil (2L)\\t','price':1160,'mfg_date':'23/08/2021','exp_date':'23/3/2022','qty':60},\n",
        "2127 : {'name':'Peanut Butter (1 kg)','price':338,'mfg_date':'21/08/2021','exp_date':'20/11/2021','qty':102},\n",
        "2128 : {'name':'Multigrain Bread','price':60,'mfg_date':'29/08/2021','exp_date':'05/09/2021','qty':40},\n",
        "2129 : {'name':'Moong Dal (1 kg)','price':150,'mfg_date':'18/08/2021','exp_date':'18/12/2021','qty':80},\n",
        "2130 : {'name':'Chana Dal (1 kg)','price':105,'mfg_date':'12/08/2021','exp_date':'12/12/2021','qty':90},\n",
        "}"
      ],
      "execution_count": 2,
      "outputs": []
    },
    {
      "cell_type": "code",
      "metadata": {
        "colab": {
          "base_uri": "https://localhost:8080/"
        },
        "id": "CE2fjVbHtdob",
        "outputId": "def4ebf5-b898-4bd6-dbfb-952c31178ad1"
      },
      "source": [
        "for i in avail.keys():\n",
        "  print(\"PRODUCT_ID\",i,\"PRODUCT_NAME\",avail[i]['name'],\"PRODUCT_PRICE\",avail[i]['price'],\"PRODUCT_MANUFACTURING_DATE\",avail[i]['mfg_date'],\"PRODUCT_EXPIRY_DATE\",avail[i]['exp_date'],\"PRODUCT_QUNATITY\",avail[i]['qty'],sep='\\t')  \n",
        "  "
      ],
      "execution_count": 3,
      "outputs": [
        {
          "output_type": "stream",
          "name": "stdout",
          "text": [
            "PRODUCT_ID\t2101\tPRODUCT_NAME\tMaggi noodles\t\tPRODUCT_PRICE\t10\tPRODUCT_MANUFACTURING_DATE\t25/08/2021\tPRODUCT_EXPIRY_DATE\t25/2/2022\tPRODUCT_QUNATITY\t100\n",
            "PRODUCT_ID\t2102\tPRODUCT_NAME\tMaggi atta noodles\tPRODUCT_PRICE\t20\tPRODUCT_MANUFACTURING_DATE\t21/08/2021\tPRODUCT_EXPIRY_DATE\t21/2/2022\tPRODUCT_QUNATITY\t106\n",
            "PRODUCT_ID\t2103\tPRODUCT_NAME\tLays\t\t\tPRODUCT_PRICE\t10\tPRODUCT_MANUFACTURING_DATE\t23/07/2021\tPRODUCT_EXPIRY_DATE\t23/11/2021\tPRODUCT_QUNATITY\t70\n",
            "PRODUCT_ID\t2104\tPRODUCT_NAME\tLays family pack\tPRODUCT_PRICE\t20\tPRODUCT_MANUFACTURING_DATE\t25/06/2021\tPRODUCT_EXPIRY_DATE\t25/12/2021\tPRODUCT_QUNATITY\t140\n",
            "PRODUCT_ID\t2105\tPRODUCT_NAME\tTata salt\t\tPRODUCT_PRICE\t20\tPRODUCT_MANUFACTURING_DATE\t20/05/2021\tPRODUCT_EXPIRY_DATE\t20/11/2021\tPRODUCT_QUNATITY\t180\n",
            "PRODUCT_ID\t2106\tPRODUCT_NAME\tTata rock salt\t\tPRODUCT_PRICE\t100\tPRODUCT_MANUFACTURING_DATE\t15/08/2021\tPRODUCT_EXPIRY_DATE\t15/2/2022\tPRODUCT_QUNATITY\t140\n",
            "PRODUCT_ID\t2107\tPRODUCT_NAME\tCadbury silk\t\tPRODUCT_PRICE\t160\tPRODUCT_MANUFACTURING_DATE\t28/07/2021\tPRODUCT_EXPIRY_DATE\t28/2/2022\tPRODUCT_QUNATITY\t200\n",
            "PRODUCT_ID\t2108\tPRODUCT_NAME\tBar one\t\t\tPRODUCT_PRICE\t10\tPRODUCT_MANUFACTURING_DATE\t21/08/2021\tPRODUCT_EXPIRY_DATE\t21/12/2021\tPRODUCT_QUNATITY\t150\n",
            "PRODUCT_ID\t2109\tPRODUCT_NAME\tBlack pepper (100 g)\tPRODUCT_PRICE\t176\tPRODUCT_MANUFACTURING_DATE\t30/08/2021\tPRODUCT_EXPIRY_DATE\t03/03/2022\tPRODUCT_QUNATITY\t300\n",
            "PRODUCT_ID\t2110\tPRODUCT_NAME\tTumeric powder(500 g)\tPRODUCT_PRICE\t128\tPRODUCT_MANUFACTURING_DATE\t12/06/2021\tPRODUCT_EXPIRY_DATE\t12/1/2022\tPRODUCT_QUNATITY\t130\n",
            "PRODUCT_ID\t2111\tPRODUCT_NAME\tTata Tea premium (1 kg)\tPRODUCT_PRICE\t370\tPRODUCT_MANUFACTURING_DATE\t13/05/2021\tPRODUCT_EXPIRY_DATE\t25/11/2021\tPRODUCT_QUNATITY\t180\n",
            "PRODUCT_ID\t2112\tPRODUCT_NAME\tBasmati Rice (5 kg)\tPRODUCT_PRICE\t614\tPRODUCT_MANUFACTURING_DATE\t28/08/2021\tPRODUCT_EXPIRY_DATE\t28/2/2022\tPRODUCT_QUNATITY\t108\n",
            "PRODUCT_ID\t2113\tPRODUCT_NAME\tKellogs Oats (2 kig) \tPRODUCT_PRICE\t280\tPRODUCT_MANUFACTURING_DATE\t23/08/2021\tPRODUCT_EXPIRY_DATE\t25/2/2022\tPRODUCT_QUNATITY\t190\n",
            "PRODUCT_ID\t2114\tPRODUCT_NAME\tDishwash gel (5 L)\tPRODUCT_PRICE\t550\tPRODUCT_MANUFACTURING_DATE\t22/06/2021\tPRODUCT_EXPIRY_DATE\t25/12/2022\tPRODUCT_QUNATITY\t250\n",
            "PRODUCT_ID\t2115\tPRODUCT_NAME\tSugar (5 kg)\t\tPRODUCT_PRICE\t225\tPRODUCT_MANUFACTURING_DATE\t25/04/2021\tPRODUCT_EXPIRY_DATE\t25/08/2021\tPRODUCT_QUNATITY\t130\n",
            "PRODUCT_ID\t2116\tPRODUCT_NAME\tBrown sugar (5 kg)\tPRODUCT_PRICE\t370\tPRODUCT_MANUFACTURING_DATE\t21/06/2021\tPRODUCT_EXPIRY_DATE\t23/12/2021\tPRODUCT_QUNATITY\t200\n",
            "PRODUCT_ID\t2117\tPRODUCT_NAME\tAlmonds (1 kg)\t\tPRODUCT_PRICE\t1400\tPRODUCT_MANUFACTURING_DATE\t25/08/2021\tPRODUCT_EXPIRY_DATE\t25/08/2022\tPRODUCT_QUNATITY\t50\n",
            "PRODUCT_ID\t2118\tPRODUCT_NAME\tCashewnuts (1 kg)\tPRODUCT_PRICE\t680\tPRODUCT_MANUFACTURING_DATE\t25/08/2021\tPRODUCT_EXPIRY_DATE\t25/08/2022\tPRODUCT_QUNATITY\t60\n",
            "PRODUCT_ID\t2119\tPRODUCT_NAME\tWalnuts (1 kg)\t\tPRODUCT_PRICE\t860\tPRODUCT_MANUFACTURING_DATE\t25/08/2021\tPRODUCT_EXPIRY_DATE\t25/07/2022\tPRODUCT_QUNATITY\t70\n",
            "PRODUCT_ID\t2120\tPRODUCT_NAME\tPistachios (1 kg)\tPRODUCT_PRICE\t1370\tPRODUCT_MANUFACTURING_DATE\t25/08/2021\tPRODUCT_EXPIRY_DATE\t25/09/2022\tPRODUCT_QUNATITY\t80\n",
            "PRODUCT_ID\t2121\tPRODUCT_NAME\tCoconut oil (600 ml)\tPRODUCT_PRICE\t240\tPRODUCT_MANUFACTURING_DATE\t25/08/2021\tPRODUCT_EXPIRY_DATE\t25/08/2022\tPRODUCT_QUNATITY\t106\n",
            "PRODUCT_ID\t2122\tPRODUCT_NAME\tMustard Oil (1 L)\tPRODUCT_PRICE\t185\tPRODUCT_MANUFACTURING_DATE\t15/06/2021\tPRODUCT_EXPIRY_DATE\t15/12/2021\tPRODUCT_QUNATITY\t109\n",
            "PRODUCT_ID\t2123\tPRODUCT_NAME\tTomato Ketchup (950g)\tPRODUCT_PRICE\t115\tPRODUCT_MANUFACTURING_DATE\t26/07/2021\tPRODUCT_EXPIRY_DATE\t26/10/2021\tPRODUCT_QUNATITY\t145\n",
            "PRODUCT_ID\t2124\tPRODUCT_NAME\tMayonnaise (900g)\tPRODUCT_PRICE\t150\tPRODUCT_MANUFACTURING_DATE\t22/06/2021\tPRODUCT_EXPIRY_DATE\t21/11/2021\tPRODUCT_QUNATITY\t90\n",
            "PRODUCT_ID\t2125\tPRODUCT_NAME\tOregano (80g)\t\tPRODUCT_PRICE\t80\tPRODUCT_MANUFACTURING_DATE\t30/06/2021\tPRODUCT_EXPIRY_DATE\t28/12/2021\tPRODUCT_QUNATITY\t250\n",
            "PRODUCT_ID\t2126\tPRODUCT_NAME\tOlive oil (2L)\t\tPRODUCT_PRICE\t1160\tPRODUCT_MANUFACTURING_DATE\t23/08/2021\tPRODUCT_EXPIRY_DATE\t23/3/2022\tPRODUCT_QUNATITY\t60\n",
            "PRODUCT_ID\t2127\tPRODUCT_NAME\tPeanut Butter (1 kg)\tPRODUCT_PRICE\t338\tPRODUCT_MANUFACTURING_DATE\t21/08/2021\tPRODUCT_EXPIRY_DATE\t20/11/2021\tPRODUCT_QUNATITY\t102\n",
            "PRODUCT_ID\t2128\tPRODUCT_NAME\tMultigrain Bread\tPRODUCT_PRICE\t60\tPRODUCT_MANUFACTURING_DATE\t29/08/2021\tPRODUCT_EXPIRY_DATE\t05/09/2021\tPRODUCT_QUNATITY\t40\n",
            "PRODUCT_ID\t2129\tPRODUCT_NAME\tMoong Dal (1 kg)\tPRODUCT_PRICE\t150\tPRODUCT_MANUFACTURING_DATE\t18/08/2021\tPRODUCT_EXPIRY_DATE\t18/12/2021\tPRODUCT_QUNATITY\t80\n",
            "PRODUCT_ID\t2130\tPRODUCT_NAME\tChana Dal (1 kg)\tPRODUCT_PRICE\t105\tPRODUCT_MANUFACTURING_DATE\t12/08/2021\tPRODUCT_EXPIRY_DATE\t12/12/2021\tPRODUCT_QUNATITY\t90\n"
          ]
        }
      ]
    },
    {
      "cell_type": "code",
      "metadata": {
        "id": "HzoKFX2Ht0R1",
        "colab": {
          "base_uri": "https://localhost:8080/"
        },
        "outputId": "02c53954-98bf-4bb4-941c-93865faab4be"
      },
      "source": [
        "import time\n",
        "import json \n",
        "sum = 0\n",
        "sales = {}\n",
        "input(\"Hey, what do you want to  purchase? *press enter to continue*\")\n",
        "while(True):\n",
        "  uid = int(input(\"enter the ID of the product you want to purchase \"))\n",
        "  for i in avail.keys():\n",
        "    if uid==i:\n",
        "      uqt= int(input(\"enter how many of them you want to purchase \"))\n",
        "      while(True):\n",
        "        if uqt>avail[i]['qty']:\n",
        "          print(\"We've \",avail[i]['qty'],\" available in our stock\")\n",
        "          uqt = int(input(\"try entering lesser number \"))\n",
        "        else:\n",
        "          break\n",
        "      avail[i]['qty'] -= uqt  \n",
        "      sales[i] = {'Product_Name':avail[i]['name'],'Product Price':avail[i]['price'],'Quantity':uqt}\n",
        "      sum+=(uqt*avail[i]['price'])    \n",
        "      print(\"You've purchased \",avail[i]['name'],\" of rupees \",uqt*avail[i]['price'],\"at\",time.ctime())\n",
        "  dsn = input(\"type 'yes' to continue shopping or 'no' to quit \").lower()\n",
        "  if dsn=='no':\n",
        "    print(\"Total amount to be paid  Rs.\",sum)\n",
        "    print(\"Come again,We're happy to help you!\")\n",
        "    break\n",
        "\n",
        "avail_new = json.dumps(avail)\n",
        "\n",
        "file_d = open(\"record.json\",\"w\")\n",
        "file_d.write(avail_new)\n",
        "file_d.close()\n",
        "\n",
        "\n",
        "\n",
        "sales_str = json.dumps(sales)\n",
        "\n",
        "fd = open(\"sale.json\",\"w\")\n",
        "fd.write(sales_str)\n",
        "fd.close()\n",
        "\n",
        "\n",
        "\n",
        "\n"
      ],
      "execution_count": 6,
      "outputs": [
        {
          "output_type": "stream",
          "name": "stdout",
          "text": [
            "Hey, what do you want to  purchase? *press enter to continue*\n",
            "enter the ID of the product you want to purchase 2101\n",
            "enter how many of them you want to purchase 5\n",
            "You've purchased  Maggi noodles\t  of rupees  50 at Sun Sep  5 17:29:37 2021\n",
            "type 'yes' to continue shopping or 'no' to quit yes\n",
            "enter the ID of the product you want to purchase 2102\n",
            "enter how many of them you want to purchase 7\n",
            "You've purchased  Maggi atta noodles  of rupees  140 at Sun Sep  5 17:29:51 2021\n",
            "type 'yes' to continue shopping or 'no' to quit yes\n",
            "enter the ID of the product you want to purchase 2103\n",
            "enter how many of them you want to purchase 4\n",
            "You've purchased  Lays\t\t  of rupees  40 at Sun Sep  5 17:30:15 2021\n",
            "type 'yes' to continue shopping or 'no' to quit no\n",
            "Total amount to be paid  Rs. 230\n",
            "Come again,We're happy to help you!\n"
          ]
        }
      ]
    },
    {
      "cell_type": "code",
      "metadata": {
        "id": "Oa_5Xn-L0OjE"
      },
      "source": [
        ""
      ],
      "execution_count": 4,
      "outputs": []
    }
  ]
}