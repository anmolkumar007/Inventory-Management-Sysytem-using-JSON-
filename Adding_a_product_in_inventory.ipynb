{
  "nbformat": 4,
  "nbformat_minor": 0,
  "metadata": {
    "colab": {
      "name": "Adding a product in inventory",
      "provenance": []
    },
    "kernelspec": {
      "name": "python3",
      "display_name": "Python 3"
    },
    "language_info": {
      "name": "python"
    }
  },
  "cells": [
    {
      "cell_type": "code",
      "metadata": {
        "id": "xOXnWhzZBX7n"
      },
      "source": [
        "x = open(\"inventory.json\",\"r\")\n",
        "st_r = x.read()\n",
        "x.close()"
      ],
      "execution_count": 2,
      "outputs": []
    },
    {
      "cell_type": "code",
      "metadata": {
        "colab": {
          "base_uri": "https://localhost:8080/",
          "height": 191
        },
        "id": "EhOnCAf4GWhq",
        "outputId": "2240ab66-3648-4bdb-ea9a-d8051984a148"
      },
      "source": [
        "st_r"
      ],
      "execution_count": 3,
      "outputs": [
        {
          "output_type": "execute_result",
          "data": {
            "application/vnd.google.colaboratory.intrinsic+json": {
              "type": "string"
            },
            "text/plain": [
              "'{\"2101\": {\"name\": \"Maggi noodles\\\\t\", \"price\": 10, \"mfg_date\": \"25/08/2021\", \"exp_date\": \"25/2/2022\", \"qty\": 100}, \"2102\": {\"name\": \"Maggi atta noodles\", \"price\": 20, \"mfg_date\": \"21/08/2021\", \"exp_date\": \"21/2/2022\", \"qty\": 106}, \"2103\": {\"name\": \"Lays\\\\t\\\\t\", \"price\": 10, \"mfg_date\": \"23/07/2021\", \"exp_date\": \"23/11/2021\", \"qty\": 70}, \"2104\": {\"name\": \"Lays family pack\", \"price\": 20, \"mfg_date\": \"25/06/2021\", \"exp_date\": \"25/12/2021\", \"qty\": 140}, \"2105\": {\"name\": \"Tata salt\\\\t\", \"price\": 20, \"mfg_date\": \"20/05/2021\", \"exp_date\": \"20/11/2021\", \"qty\": 180}, \"2106\": {\"name\": \"Tata rock salt\\\\t\", \"price\": 100, \"mfg_date\": \"15/08/2021\", \"exp_date\": \"15/2/2022\", \"qty\": 140}, \"2107\": {\"name\": \"Cadbury silk\\\\t\", \"price\": 160, \"mfg_date\": \"28/07/2021\", \"exp_date\": \"28/2/2022\", \"qty\": 200}, \"2108\": {\"name\": \"Bar one\\\\t\\\\t\", \"price\": 10, \"mfg_date\": \"21/08/2021\", \"exp_date\": \"21/12/2021\", \"qty\": 150}, \"2109\": {\"name\": \"Black pepper (100 g)\", \"price\": 176, \"mfg_date\": \"30/08/2021\", \"exp_date\": \"03/03/2022\", \"qty\": 300}, \"2110\": {\"name\": \"Tumeric powder(500 g)\", \"price\": 128, \"mfg_date\": \"12/06/2021\", \"exp_date\": \"12/1/2022\", \"qty\": 130}, \"2111\": {\"name\": \"Tata Tea premium (1 kg)\", \"price\": 370, \"mfg_date\": \"13/05/2021\", \"exp_date\": \"25/11/2021\", \"qty\": 180}, \"2112\": {\"name\": \"Basmati Rice (5 kg)\", \"price\": 614, \"mfg_date\": \"28/08/2021\", \"exp_date\": \"28/2/2022\", \"qty\": 108}, \"2113\": {\"name\": \"Kellogs Oats (2 kig) \", \"price\": 280, \"mfg_date\": \"23/08/2021\", \"exp_date\": \"25/2/2022\", \"qty\": 190}, \"2114\": {\"name\": \"Dishwash gel (5 L)\", \"price\": 550, \"mfg_date\": \"22/06/2021\", \"exp_date\": \"25/12/2022\", \"qty\": 250}, \"2115\": {\"name\": \"Sugar (5 kg)\\\\t\", \"price\": 225, \"mfg_date\": \"25/04/2021\", \"exp_date\": \"25/08/2021\", \"qty\": 130}, \"2116\": {\"name\": \"Brown sugar (5 kg)\", \"price\": 370, \"mfg_date\": \"21/06/2021\", \"exp_date\": \"23/12/2021\", \"qty\": 200}, \"2117\": {\"name\": \"Almonds (1 kg)\\\\t\", \"price\": 1400, \"mfg_date\": \"25/08/2021\", \"exp_date\": \"25/08/2022\", \"qty\": 50}, \"2118\": {\"name\": \"Cashewnuts (1 kg)\", \"price\": 680, \"mfg_date\": \"25/08/2021\", \"exp_date\": \"25/08/2022\", \"qty\": 60}, \"2119\": {\"name\": \"Walnuts (1 kg)\\\\t\", \"price\": 860, \"mfg_date\": \"25/08/2021\", \"exp_date\": \"25/07/2022\", \"qty\": 70}, \"2120\": {\"name\": \"Pistachios (1 kg)\", \"price\": 1370, \"mfg_date\": \"25/08/2021\", \"exp_date\": \"25/09/2022\", \"qty\": 80}, \"2121\": {\"name\": \"Coconut oil (600 ml)\", \"price\": 240, \"mfg_date\": \"25/08/2021\", \"exp_date\": \"25/08/2022\", \"qty\": 106}, \"2122\": {\"name\": \"Mustard Oil (1 L)\", \"price\": 185, \"mfg_date\": \"15/06/2021\", \"exp_date\": \"15/12/2021\", \"qty\": 109}, \"2123\": {\"name\": \"Tomato Ketchup (950g)\", \"price\": 115, \"mfg_date\": \"26/07/2021\", \"exp_date\": \"26/10/2021\", \"qty\": 145}, \"2124\": {\"name\": \"Mayonnaise (900g)\", \"price\": 150, \"mfg_date\": \"22/06/2021\", \"exp_date\": \"21/11/2021\", \"qty\": 90}, \"2125\": {\"name\": \"Oregano (80g)\\\\t\", \"price\": 80, \"mfg_date\": \"30/06/2021\", \"exp_date\": \"28/12/2021\", \"qty\": 250}, \"2126\": {\"name\": \"Olive oil (2L)\\\\t\", \"price\": 1160, \"mfg_date\": \"23/08/2021\", \"exp_date\": \"23/3/2022\", \"qty\": 60}, \"2127\": {\"name\": \"Peanut Butter (1 kg)\", \"price\": 338, \"mfg_date\": \"21/08/2021\", \"exp_date\": \"20/11/2021\", \"qty\": 102}, \"2128\": {\"name\": \"Multigrain Bread\", \"price\": 60, \"mfg_date\": \"29/08/2021\", \"exp_date\": \"05/09/2021\", \"qty\": 40}, \"2129\": {\"name\": \"Moong Dal (1 kg)\", \"price\": 150, \"mfg_date\": \"18/08/2021\", \"exp_date\": \"18/12/2021\", \"qty\": 80}, \"2130\": {\"name\": \"Chana Dal (1 kg)\", \"price\": 105, \"mfg_date\": \"12/08/2021\", \"exp_date\": \"12/12/2021\", \"qty\": 90}}'"
            ]
          },
          "metadata": {},
          "execution_count": 3
        }
      ]
    },
    {
      "cell_type": "code",
      "metadata": {
        "id": "cNvs8MdAGZKP"
      },
      "source": [
        "import json\n",
        "stock = json.loads(st_r)"
      ],
      "execution_count": 4,
      "outputs": []
    },
    {
      "cell_type": "code",
      "metadata": {
        "colab": {
          "base_uri": "https://localhost:8080/"
        },
        "id": "J2lVCnrBGmkm",
        "outputId": "f40f8b60-dd41-479a-8a54-c1fc39a7a0ef"
      },
      "source": [
        "stock"
      ],
      "execution_count": 5,
      "outputs": [
        {
          "output_type": "execute_result",
          "data": {
            "text/plain": [
              "{'2101': {'exp_date': '25/2/2022',\n",
              "  'mfg_date': '25/08/2021',\n",
              "  'name': 'Maggi noodles\\t',\n",
              "  'price': 10,\n",
              "  'qty': 100},\n",
              " '2102': {'exp_date': '21/2/2022',\n",
              "  'mfg_date': '21/08/2021',\n",
              "  'name': 'Maggi atta noodles',\n",
              "  'price': 20,\n",
              "  'qty': 106},\n",
              " '2103': {'exp_date': '23/11/2021',\n",
              "  'mfg_date': '23/07/2021',\n",
              "  'name': 'Lays\\t\\t',\n",
              "  'price': 10,\n",
              "  'qty': 70},\n",
              " '2104': {'exp_date': '25/12/2021',\n",
              "  'mfg_date': '25/06/2021',\n",
              "  'name': 'Lays family pack',\n",
              "  'price': 20,\n",
              "  'qty': 140},\n",
              " '2105': {'exp_date': '20/11/2021',\n",
              "  'mfg_date': '20/05/2021',\n",
              "  'name': 'Tata salt\\t',\n",
              "  'price': 20,\n",
              "  'qty': 180},\n",
              " '2106': {'exp_date': '15/2/2022',\n",
              "  'mfg_date': '15/08/2021',\n",
              "  'name': 'Tata rock salt\\t',\n",
              "  'price': 100,\n",
              "  'qty': 140},\n",
              " '2107': {'exp_date': '28/2/2022',\n",
              "  'mfg_date': '28/07/2021',\n",
              "  'name': 'Cadbury silk\\t',\n",
              "  'price': 160,\n",
              "  'qty': 200},\n",
              " '2108': {'exp_date': '21/12/2021',\n",
              "  'mfg_date': '21/08/2021',\n",
              "  'name': 'Bar one\\t\\t',\n",
              "  'price': 10,\n",
              "  'qty': 150},\n",
              " '2109': {'exp_date': '03/03/2022',\n",
              "  'mfg_date': '30/08/2021',\n",
              "  'name': 'Black pepper (100 g)',\n",
              "  'price': 176,\n",
              "  'qty': 300},\n",
              " '2110': {'exp_date': '12/1/2022',\n",
              "  'mfg_date': '12/06/2021',\n",
              "  'name': 'Tumeric powder(500 g)',\n",
              "  'price': 128,\n",
              "  'qty': 130},\n",
              " '2111': {'exp_date': '25/11/2021',\n",
              "  'mfg_date': '13/05/2021',\n",
              "  'name': 'Tata Tea premium (1 kg)',\n",
              "  'price': 370,\n",
              "  'qty': 180},\n",
              " '2112': {'exp_date': '28/2/2022',\n",
              "  'mfg_date': '28/08/2021',\n",
              "  'name': 'Basmati Rice (5 kg)',\n",
              "  'price': 614,\n",
              "  'qty': 108},\n",
              " '2113': {'exp_date': '25/2/2022',\n",
              "  'mfg_date': '23/08/2021',\n",
              "  'name': 'Kellogs Oats (2 kig) ',\n",
              "  'price': 280,\n",
              "  'qty': 190},\n",
              " '2114': {'exp_date': '25/12/2022',\n",
              "  'mfg_date': '22/06/2021',\n",
              "  'name': 'Dishwash gel (5 L)',\n",
              "  'price': 550,\n",
              "  'qty': 250},\n",
              " '2115': {'exp_date': '25/08/2021',\n",
              "  'mfg_date': '25/04/2021',\n",
              "  'name': 'Sugar (5 kg)\\t',\n",
              "  'price': 225,\n",
              "  'qty': 130},\n",
              " '2116': {'exp_date': '23/12/2021',\n",
              "  'mfg_date': '21/06/2021',\n",
              "  'name': 'Brown sugar (5 kg)',\n",
              "  'price': 370,\n",
              "  'qty': 200},\n",
              " '2117': {'exp_date': '25/08/2022',\n",
              "  'mfg_date': '25/08/2021',\n",
              "  'name': 'Almonds (1 kg)\\t',\n",
              "  'price': 1400,\n",
              "  'qty': 50},\n",
              " '2118': {'exp_date': '25/08/2022',\n",
              "  'mfg_date': '25/08/2021',\n",
              "  'name': 'Cashewnuts (1 kg)',\n",
              "  'price': 680,\n",
              "  'qty': 60},\n",
              " '2119': {'exp_date': '25/07/2022',\n",
              "  'mfg_date': '25/08/2021',\n",
              "  'name': 'Walnuts (1 kg)\\t',\n",
              "  'price': 860,\n",
              "  'qty': 70},\n",
              " '2120': {'exp_date': '25/09/2022',\n",
              "  'mfg_date': '25/08/2021',\n",
              "  'name': 'Pistachios (1 kg)',\n",
              "  'price': 1370,\n",
              "  'qty': 80},\n",
              " '2121': {'exp_date': '25/08/2022',\n",
              "  'mfg_date': '25/08/2021',\n",
              "  'name': 'Coconut oil (600 ml)',\n",
              "  'price': 240,\n",
              "  'qty': 106},\n",
              " '2122': {'exp_date': '15/12/2021',\n",
              "  'mfg_date': '15/06/2021',\n",
              "  'name': 'Mustard Oil (1 L)',\n",
              "  'price': 185,\n",
              "  'qty': 109},\n",
              " '2123': {'exp_date': '26/10/2021',\n",
              "  'mfg_date': '26/07/2021',\n",
              "  'name': 'Tomato Ketchup (950g)',\n",
              "  'price': 115,\n",
              "  'qty': 145},\n",
              " '2124': {'exp_date': '21/11/2021',\n",
              "  'mfg_date': '22/06/2021',\n",
              "  'name': 'Mayonnaise (900g)',\n",
              "  'price': 150,\n",
              "  'qty': 90},\n",
              " '2125': {'exp_date': '28/12/2021',\n",
              "  'mfg_date': '30/06/2021',\n",
              "  'name': 'Oregano (80g)\\t',\n",
              "  'price': 80,\n",
              "  'qty': 250},\n",
              " '2126': {'exp_date': '23/3/2022',\n",
              "  'mfg_date': '23/08/2021',\n",
              "  'name': 'Olive oil (2L)\\t',\n",
              "  'price': 1160,\n",
              "  'qty': 60},\n",
              " '2127': {'exp_date': '20/11/2021',\n",
              "  'mfg_date': '21/08/2021',\n",
              "  'name': 'Peanut Butter (1 kg)',\n",
              "  'price': 338,\n",
              "  'qty': 102},\n",
              " '2128': {'exp_date': '05/09/2021',\n",
              "  'mfg_date': '29/08/2021',\n",
              "  'name': 'Multigrain Bread',\n",
              "  'price': 60,\n",
              "  'qty': 40},\n",
              " '2129': {'exp_date': '18/12/2021',\n",
              "  'mfg_date': '18/08/2021',\n",
              "  'name': 'Moong Dal (1 kg)',\n",
              "  'price': 150,\n",
              "  'qty': 80},\n",
              " '2130': {'exp_date': '12/12/2021',\n",
              "  'mfg_date': '12/08/2021',\n",
              "  'name': 'Chana Dal (1 kg)',\n",
              "  'price': 105,\n",
              "  'qty': 90}}"
            ]
          },
          "metadata": {},
          "execution_count": 5
        }
      ]
    },
    {
      "cell_type": "code",
      "metadata": {
        "colab": {
          "base_uri": "https://localhost:8080/"
        },
        "id": "m9PvDgtLGnnp",
        "outputId": "adb42859-5377-4045-8702-530952e8fd37"
      },
      "source": [
        "id = input(\"enter the id of the product you want to add in the inventory \")\n",
        "for i in stock.keys():\n",
        "  if(i==id):\n",
        "    print(\"You're looking for \",stock[i]['name'],\"having quantity of \",stock[i]['qty'])\n",
        "    user_qty = int(input(\"enter the quantity you want to add in the inventory \"))\n",
        "    stock[i]['qty']+=user_qty\n",
        "    print(\"You've added \",user_qty,\" more items successfully!\")\n",
        "    break\n",
        "if id not in stock.keys():\n",
        "  while (True):\n",
        "    if int(id)-1 not in stock.keys():\n",
        "      id = input(\"try entering valid ID to add the product \")\n",
        "    break\n",
        "  prod_name = input(\"enter the name of the product \")\n",
        "  prod_price = int(input(\"enter the price of the product \"))\n",
        "  mfg_date = input(\"enter the manufacturing date in DD/MM/YY format \")\n",
        "  exp_date = input(\"enter the expiry date in DD/MM/YY format \")\n",
        "  prod_qty = int(input(\"enter the quantity of the product \"))\n",
        "\n",
        "  stock[id] = {'name':prod_name,'price':prod_price,'mfg_date':mfg_date,'exp_date':exp_date,'qty':prod_qty} \n",
        "\n",
        "\n",
        "import json \n",
        "stock_str = json.dumps(stock)\n",
        "\n",
        "xr = open(\"add_item.json\",\"w\")\n",
        "xr.write(stock_str)\n",
        "xr.close()\n",
        "    "
      ],
      "execution_count": 18,
      "outputs": [
        {
          "output_type": "stream",
          "name": "stdout",
          "text": [
            "enter the id of the product you want to add in the inventory 2102\n",
            "You're looking for  Maggi atta noodles having quantity of  106\n",
            "enter the quantity you want to add in the inventory 4\n",
            "You've added  4  more items successfully\n"
          ]
        }
      ]
    },
    {
      "cell_type": "code",
      "metadata": {
        "id": "a3UcNPh7HX-_"
      },
      "source": [
        ""
      ],
      "execution_count": 6,
      "outputs": []
    }
  ]
}